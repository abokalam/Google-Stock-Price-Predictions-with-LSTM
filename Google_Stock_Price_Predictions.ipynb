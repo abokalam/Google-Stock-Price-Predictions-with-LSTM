{
  "nbformat": 4,
  "nbformat_minor": 0,
  "metadata": {
    "colab": {
      "name": "Google Stock Price Predictions.ipynb",
      "provenance": [],
      "collapsed_sections": []
    },
    "kernelspec": {
      "name": "python3",
      "display_name": "Python 3"
    },
    "accelerator": "GPU"
  },
  "cells": [
    {
      "cell_type": "code",
      "metadata": {
        "id": "nFuL0WZzIjnX",
        "colab_type": "code",
        "outputId": "2ded90ab-6004-41f6-b38c-509d7d3dec5a",
        "colab": {
          "resources": {
            "http://localhost:8080/nbextensions/google.colab/files.js": {
              "data": "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",
              "ok": true,
              "headers": [
                [
                  "content-type",
                  "application/javascript"
                ]
              ],
              "status": 200,
              "status_text": ""
            }
          },
          "base_uri": "https://localhost:8080/",
          "height": 74
        }
      },
      "source": [
        "from google.colab import files\n",
        "uploaded = files.upload()"
      ],
      "execution_count": 0,
      "outputs": [
        {
          "output_type": "display_data",
          "data": {
            "text/html": [
              "\n",
              "     <input type=\"file\" id=\"files-a2e7cd0c-f51b-408e-91ff-affcadad1578\" name=\"files[]\" multiple disabled />\n",
              "     <output id=\"result-a2e7cd0c-f51b-408e-91ff-affcadad1578\">\n",
              "      Upload widget is only available when the cell has been executed in the\n",
              "      current browser session. Please rerun this cell to enable.\n",
              "      </output>\n",
              "      <script src=\"/nbextensions/google.colab/files.js\"></script> "
            ],
            "text/plain": [
              "<IPython.core.display.HTML object>"
            ]
          },
          "metadata": {
            "tags": []
          }
        },
        {
          "output_type": "stream",
          "text": [
            "Saving Google_Stock_Price_Train.csv to Google_Stock_Price_Train.csv\n"
          ],
          "name": "stdout"
        }
      ]
    },
    {
      "cell_type": "code",
      "metadata": {
        "id": "z4FZS0_pJVRi",
        "colab_type": "code",
        "outputId": "31c9fd13-b13e-4a26-d975-46e1fcb08ec0",
        "colab": {
          "resources": {
            "http://localhost:8080/nbextensions/google.colab/files.js": {
              "data": "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",
              "ok": true,
              "headers": [
                [
                  "content-type",
                  "application/javascript"
                ]
              ],
              "status": 200,
              "status_text": ""
            }
          },
          "base_uri": "https://localhost:8080/",
          "height": 74
        }
      },
      "source": [
        "from google.colab import files\n",
        "uploaded = files.upload()"
      ],
      "execution_count": 0,
      "outputs": [
        {
          "output_type": "display_data",
          "data": {
            "text/html": [
              "\n",
              "     <input type=\"file\" id=\"files-4fe5e949-7ac9-4846-9b3c-d591e600493d\" name=\"files[]\" multiple disabled />\n",
              "     <output id=\"result-4fe5e949-7ac9-4846-9b3c-d591e600493d\">\n",
              "      Upload widget is only available when the cell has been executed in the\n",
              "      current browser session. Please rerun this cell to enable.\n",
              "      </output>\n",
              "      <script src=\"/nbextensions/google.colab/files.js\"></script> "
            ],
            "text/plain": [
              "<IPython.core.display.HTML object>"
            ]
          },
          "metadata": {
            "tags": []
          }
        },
        {
          "output_type": "stream",
          "text": [
            "Saving Google_Stock_Price_Test.csv to Google_Stock_Price_Test.csv\n"
          ],
          "name": "stdout"
        }
      ]
    },
    {
      "cell_type": "markdown",
      "metadata": {
        "id": "kkkf6YiNxFwl",
        "colab_type": "text"
      },
      "source": [
        "Algorithmic trading has revolutionised the stock market and its surrounding industry. Over 70% of all trades happening in the US right now are being handled by bots[1]. Gone are the days of the packed stock exchange with suited people waving sheets of paper shouting into telephones.\n",
        "This got me thinking of how I could develop my own algorithm for trading stocks, or at least try to accurately predict them."
      ]
    },
    {
      "cell_type": "markdown",
      "metadata": {
        "id": "J1_wv9F9xVhU",
        "colab_type": "text"
      },
      "source": [
        "’ve learned a lot about neural networks and machine learning over the summer and one of the most recent and applicable ML technologies I learnt about is the LSTM cell"
      ]
    },
    {
      "cell_type": "code",
      "metadata": {
        "id": "PwHnBeJ2Jaru",
        "colab_type": "code",
        "colab": {}
      },
      "source": [
        "# Importing the libraries\n",
        "import numpy as np\n",
        "import matplotlib.pyplot as plt\n",
        "import pandas as pd"
      ],
      "execution_count": 0,
      "outputs": []
    },
    {
      "cell_type": "markdown",
      "metadata": {
        "id": "7m4xmT-_xlEF",
        "colab_type": "text"
      },
      "source": [
        "**The Dataset**\n",
        "\n",
        "The good thing about stock price history is that it’s basically a well labelled pre formed dataset. After some googling I found a service called AlphaVantage. They offered the daily price history of Google stocks for the past 5 years."
      ]
    },
    {
      "cell_type": "code",
      "metadata": {
        "id": "FcHzy53gJhJc",
        "colab_type": "code",
        "colab": {}
      },
      "source": [
        "# Importing the training set\n",
        "dataset_train = pd.read_csv('Google_Stock_Price_Train.csv')\n",
        "training_set = dataset_train.iloc[:, 1:2].values"
      ],
      "execution_count": 0,
      "outputs": []
    },
    {
      "cell_type": "markdown",
      "metadata": {
        "id": "yaVjFdzXzIhn",
        "colab_type": "text"
      },
      "source": [
        "**Data scaling**\n",
        "\n",
        "Most neural network architectures benefit from scaling the inputs (sometimes also the output). Why? Because most common activation functions of the network’s neurons such as tanh or sigmoid are defined on the [-1, 1] or [0, 1] interval respectively. Nowadays, rectified linear unit (ReLU) activations are commonly used activations which are unbounded on the axis of possible activation values. However, we will scale both the inputs and targets anyway. Scaling can be easily accomplished in Python using sklearn’s MinMaxScaler."
      ]
    },
    {
      "cell_type": "code",
      "metadata": {
        "id": "yhRak2xAJtV6",
        "colab_type": "code",
        "colab": {}
      },
      "source": [
        "# Feature Scaling\n",
        "from sklearn.preprocessing import MinMaxScaler\n",
        "sc = MinMaxScaler()\n",
        "training_set = sc.fit_transform(training_set)"
      ],
      "execution_count": 0,
      "outputs": []
    },
    {
      "cell_type": "code",
      "metadata": {
        "id": "mRua5Fq0JyBz",
        "colab_type": "code",
        "colab": {}
      },
      "source": [
        "# Getting the inputs and the outputs\n",
        "x_train = training_set[0:1257]\n",
        "y_train = training_set[1:1258]"
      ],
      "execution_count": 0,
      "outputs": []
    },
    {
      "cell_type": "code",
      "metadata": {
        "id": "gL1dqBUbJ6Yi",
        "colab_type": "code",
        "colab": {}
      },
      "source": [
        "# Reshaping\n",
        "x_train = np.reshape(x_train, (1257, 1, 1))"
      ],
      "execution_count": 0,
      "outputs": []
    },
    {
      "cell_type": "code",
      "metadata": {
        "id": "2DJ3XUXSJ_4o",
        "colab_type": "code",
        "outputId": "86b6b385-44c8-40ea-ad82-825c79dc0f66",
        "colab": {
          "base_uri": "https://localhost:8080/",
          "height": 80
        }
      },
      "source": [
        "# Importing the Keras libraries and packages\n",
        "from keras.models import Sequential\n",
        "from keras.layers import Dense\n",
        "from keras.layers import LSTM"
      ],
      "execution_count": 0,
      "outputs": [
        {
          "output_type": "stream",
          "text": [
            "Using TensorFlow backend.\n"
          ],
          "name": "stderr"
        },
        {
          "output_type": "display_data",
          "data": {
            "text/html": [
              "<p style=\"color: red;\">\n",
              "The default version of TensorFlow in Colab will soon switch to TensorFlow 2.x.<br>\n",
              "We recommend you <a href=\"https://www.tensorflow.org/guide/migrate\" target=\"_blank\">upgrade</a> now \n",
              "or ensure your notebook will continue to use TensorFlow 1.x via the <code>%tensorflow_version 1.x</code> magic:\n",
              "<a href=\"https://colab.research.google.com/notebooks/tensorflow_version.ipynb\" target=\"_blank\">more info</a>.</p>\n"
            ],
            "text/plain": [
              "<IPython.core.display.HTML object>"
            ]
          },
          "metadata": {
            "tags": []
          }
        }
      ]
    },
    {
      "cell_type": "markdown",
      "metadata": {
        "id": "6CFZW3GNzmrh",
        "colab_type": "text"
      },
      "source": [
        "**The Model**\n",
        "\n",
        "I started this project only knowing how to write sequential Keras code, but I ended up learning it’s functional API since I wanted a more complex network structure, eventually featuring two inputs with different layer types in each branch."
      ]
    },
    {
      "cell_type": "code",
      "metadata": {
        "id": "-4yL-F5uKK5b",
        "colab_type": "code",
        "outputId": "749120fe-183c-4702-802b-8bf6c54f60ca",
        "colab": {
          "base_uri": "https://localhost:8080/",
          "height": 139
        }
      },
      "source": [
        "# Initialising the RNN\n",
        "regressor = Sequential()\n",
        "\n",
        "# Adding the first LSTM layer \n",
        "regressor.add(LSTM(units = 4, activation = 'sigmoid', input_shape = (None, 1)))\n",
        "\n",
        "# Adding the output layer\n",
        "regressor.add(Dense(units = 1))\n"
      ],
      "execution_count": 0,
      "outputs": [
        {
          "output_type": "stream",
          "text": [
            "WARNING:tensorflow:From /usr/local/lib/python3.6/dist-packages/keras/backend/tensorflow_backend.py:66: The name tf.get_default_graph is deprecated. Please use tf.compat.v1.get_default_graph instead.\n",
            "\n",
            "WARNING:tensorflow:From /usr/local/lib/python3.6/dist-packages/keras/backend/tensorflow_backend.py:541: The name tf.placeholder is deprecated. Please use tf.compat.v1.placeholder instead.\n",
            "\n",
            "WARNING:tensorflow:From /usr/local/lib/python3.6/dist-packages/keras/backend/tensorflow_backend.py:4432: The name tf.random_uniform is deprecated. Please use tf.random.uniform instead.\n",
            "\n"
          ],
          "name": "stdout"
        }
      ]
    },
    {
      "cell_type": "code",
      "metadata": {
        "id": "1ljoXdHoKVqn",
        "colab_type": "code",
        "outputId": "d1ae2979-9303-4833-85a1-c56947f2f463",
        "colab": {
          "base_uri": "https://localhost:8080/",
          "height": 71
        }
      },
      "source": [
        "# Compiling the RNN\n",
        "regressor.compile(optimizer = 'adam', loss = 'mean_squared_error')"
      ],
      "execution_count": 0,
      "outputs": [
        {
          "output_type": "stream",
          "text": [
            "WARNING:tensorflow:From /usr/local/lib/python3.6/dist-packages/keras/optimizers.py:793: The name tf.train.Optimizer is deprecated. Please use tf.compat.v1.train.Optimizer instead.\n",
            "\n"
          ],
          "name": "stdout"
        }
      ]
    },
    {
      "cell_type": "code",
      "metadata": {
        "id": "-3sAxZR3Ka_E",
        "colab_type": "code",
        "outputId": "62e506cc-be7d-4bca-cb12-b7914e39185a",
        "colab": {
          "base_uri": "https://localhost:8080/",
          "height": 1000
        }
      },
      "source": [
        "# Fitting the RNN to the Training set\n",
        "regressor.fit(x_train, y_train, batch_size = 32, epochs = 200)"
      ],
      "execution_count": 0,
      "outputs": [
        {
          "output_type": "stream",
          "text": [
            "WARNING:tensorflow:From /tensorflow-1.15.0/python3.6/tensorflow_core/python/ops/math_grad.py:1424: where (from tensorflow.python.ops.array_ops) is deprecated and will be removed in a future version.\n",
            "Instructions for updating:\n",
            "Use tf.where in 2.0, which has the same broadcast rule as np.where\n",
            "WARNING:tensorflow:From /usr/local/lib/python3.6/dist-packages/keras/backend/tensorflow_backend.py:1033: The name tf.assign_add is deprecated. Please use tf.compat.v1.assign_add instead.\n",
            "\n",
            "WARNING:tensorflow:From /usr/local/lib/python3.6/dist-packages/keras/backend/tensorflow_backend.py:1020: The name tf.assign is deprecated. Please use tf.compat.v1.assign instead.\n",
            "\n",
            "WARNING:tensorflow:From /usr/local/lib/python3.6/dist-packages/keras/backend/tensorflow_backend.py:3005: The name tf.Session is deprecated. Please use tf.compat.v1.Session instead.\n",
            "\n",
            "Epoch 1/200\n",
            "WARNING:tensorflow:From /usr/local/lib/python3.6/dist-packages/keras/backend/tensorflow_backend.py:190: The name tf.get_default_session is deprecated. Please use tf.compat.v1.get_default_session instead.\n",
            "\n",
            "WARNING:tensorflow:From /usr/local/lib/python3.6/dist-packages/keras/backend/tensorflow_backend.py:197: The name tf.ConfigProto is deprecated. Please use tf.compat.v1.ConfigProto instead.\n",
            "\n",
            "WARNING:tensorflow:From /usr/local/lib/python3.6/dist-packages/keras/backend/tensorflow_backend.py:207: The name tf.global_variables is deprecated. Please use tf.compat.v1.global_variables instead.\n",
            "\n",
            "WARNING:tensorflow:From /usr/local/lib/python3.6/dist-packages/keras/backend/tensorflow_backend.py:216: The name tf.is_variable_initialized is deprecated. Please use tf.compat.v1.is_variable_initialized instead.\n",
            "\n",
            "WARNING:tensorflow:From /usr/local/lib/python3.6/dist-packages/keras/backend/tensorflow_backend.py:223: The name tf.variables_initializer is deprecated. Please use tf.compat.v1.variables_initializer instead.\n",
            "\n",
            "1257/1257 [==============================] - 9s 7ms/step - loss: 0.5158\n",
            "Epoch 2/200\n",
            "1257/1257 [==============================] - 0s 228us/step - loss: 0.3942\n",
            "Epoch 3/200\n",
            "1257/1257 [==============================] - 0s 184us/step - loss: 0.3009\n",
            "Epoch 4/200\n",
            "1257/1257 [==============================] - 0s 182us/step - loss: 0.2318\n",
            "Epoch 5/200\n",
            "1257/1257 [==============================] - 0s 173us/step - loss: 0.1814\n",
            "Epoch 6/200\n",
            "1257/1257 [==============================] - 0s 186us/step - loss: 0.1462\n",
            "Epoch 7/200\n",
            "1257/1257 [==============================] - 0s 170us/step - loss: 0.1214\n",
            "Epoch 8/200\n",
            "1257/1257 [==============================] - 0s 193us/step - loss: 0.1047\n",
            "Epoch 9/200\n",
            "1257/1257 [==============================] - 0s 215us/step - loss: 0.0936\n",
            "Epoch 10/200\n",
            "1257/1257 [==============================] - 0s 186us/step - loss: 0.0866\n",
            "Epoch 11/200\n",
            "1257/1257 [==============================] - 0s 171us/step - loss: 0.0823\n",
            "Epoch 12/200\n",
            "1257/1257 [==============================] - 0s 231us/step - loss: 0.0794\n",
            "Epoch 13/200\n",
            "1257/1257 [==============================] - 0s 224us/step - loss: 0.0776\n",
            "Epoch 14/200\n",
            "1257/1257 [==============================] - 0s 224us/step - loss: 0.0763\n",
            "Epoch 15/200\n",
            "1257/1257 [==============================] - 0s 228us/step - loss: 0.0752\n",
            "Epoch 16/200\n",
            "1257/1257 [==============================] - 0s 232us/step - loss: 0.0743\n",
            "Epoch 17/200\n",
            "1257/1257 [==============================] - 0s 202us/step - loss: 0.0735\n",
            "Epoch 18/200\n",
            "1257/1257 [==============================] - 0s 186us/step - loss: 0.0726\n",
            "Epoch 19/200\n",
            "1257/1257 [==============================] - 0s 209us/step - loss: 0.0718\n",
            "Epoch 20/200\n",
            "1257/1257 [==============================] - 0s 234us/step - loss: 0.0709\n",
            "Epoch 21/200\n",
            "1257/1257 [==============================] - 0s 221us/step - loss: 0.0700\n",
            "Epoch 22/200\n",
            "1257/1257 [==============================] - 0s 203us/step - loss: 0.0691\n",
            "Epoch 23/200\n",
            "1257/1257 [==============================] - 0s 180us/step - loss: 0.0682\n",
            "Epoch 24/200\n",
            "1257/1257 [==============================] - 0s 198us/step - loss: 0.0673\n",
            "Epoch 25/200\n",
            "1257/1257 [==============================] - 0s 212us/step - loss: 0.0663\n",
            "Epoch 26/200\n",
            "1257/1257 [==============================] - 0s 210us/step - loss: 0.0654\n",
            "Epoch 27/200\n",
            "1257/1257 [==============================] - 0s 194us/step - loss: 0.0643\n",
            "Epoch 28/200\n",
            "1257/1257 [==============================] - 0s 212us/step - loss: 0.0633\n",
            "Epoch 29/200\n",
            "1257/1257 [==============================] - 0s 188us/step - loss: 0.0623\n",
            "Epoch 30/200\n",
            "1257/1257 [==============================] - 0s 208us/step - loss: 0.0612\n",
            "Epoch 31/200\n",
            "1257/1257 [==============================] - 0s 160us/step - loss: 0.0601\n",
            "Epoch 32/200\n",
            "1257/1257 [==============================] - 0s 194us/step - loss: 0.0590\n",
            "Epoch 33/200\n",
            "1257/1257 [==============================] - 0s 214us/step - loss: 0.0578\n",
            "Epoch 34/200\n",
            "1257/1257 [==============================] - 0s 188us/step - loss: 0.0567\n",
            "Epoch 35/200\n",
            "1257/1257 [==============================] - 0s 190us/step - loss: 0.0556\n",
            "Epoch 36/200\n",
            "1257/1257 [==============================] - 0s 212us/step - loss: 0.0544\n",
            "Epoch 37/200\n",
            "1257/1257 [==============================] - 0s 228us/step - loss: 0.0531\n",
            "Epoch 38/200\n",
            "1257/1257 [==============================] - 0s 219us/step - loss: 0.0519\n",
            "Epoch 39/200\n",
            "1257/1257 [==============================] - 0s 186us/step - loss: 0.0506\n",
            "Epoch 40/200\n",
            "1257/1257 [==============================] - 0s 201us/step - loss: 0.0493\n",
            "Epoch 41/200\n",
            "1257/1257 [==============================] - 0s 212us/step - loss: 0.0480\n",
            "Epoch 42/200\n",
            "1257/1257 [==============================] - 0s 188us/step - loss: 0.0467\n",
            "Epoch 43/200\n",
            "1257/1257 [==============================] - 0s 182us/step - loss: 0.0453\n",
            "Epoch 44/200\n",
            "1257/1257 [==============================] - 0s 192us/step - loss: 0.0440\n",
            "Epoch 45/200\n",
            "1257/1257 [==============================] - 0s 195us/step - loss: 0.0426\n",
            "Epoch 46/200\n",
            "1257/1257 [==============================] - 0s 200us/step - loss: 0.0412\n",
            "Epoch 47/200\n",
            "1257/1257 [==============================] - 0s 197us/step - loss: 0.0398\n",
            "Epoch 48/200\n",
            "1257/1257 [==============================] - 0s 244us/step - loss: 0.0384\n",
            "Epoch 49/200\n",
            "1257/1257 [==============================] - 0s 236us/step - loss: 0.0369\n",
            "Epoch 50/200\n",
            "1257/1257 [==============================] - 0s 183us/step - loss: 0.0355\n",
            "Epoch 51/200\n",
            "1257/1257 [==============================] - 0s 226us/step - loss: 0.0341\n",
            "Epoch 52/200\n",
            "1257/1257 [==============================] - 0s 235us/step - loss: 0.0326\n",
            "Epoch 53/200\n",
            "1257/1257 [==============================] - 0s 212us/step - loss: 0.0312\n",
            "Epoch 54/200\n",
            "1257/1257 [==============================] - 0s 188us/step - loss: 0.0297\n",
            "Epoch 55/200\n",
            "1257/1257 [==============================] - 0s 211us/step - loss: 0.0283\n",
            "Epoch 56/200\n",
            "1257/1257 [==============================] - 0s 203us/step - loss: 0.0268\n",
            "Epoch 57/200\n",
            "1257/1257 [==============================] - 0s 241us/step - loss: 0.0254\n",
            "Epoch 58/200\n",
            "1257/1257 [==============================] - 0s 227us/step - loss: 0.0240\n",
            "Epoch 59/200\n",
            "1257/1257 [==============================] - 0s 229us/step - loss: 0.0226\n",
            "Epoch 60/200\n",
            "1257/1257 [==============================] - 0s 213us/step - loss: 0.0213\n",
            "Epoch 61/200\n",
            "1257/1257 [==============================] - 0s 217us/step - loss: 0.0200\n",
            "Epoch 62/200\n",
            "1257/1257 [==============================] - 0s 186us/step - loss: 0.0187\n",
            "Epoch 63/200\n",
            "1257/1257 [==============================] - 0s 194us/step - loss: 0.0175\n",
            "Epoch 64/200\n",
            "1257/1257 [==============================] - 0s 166us/step - loss: 0.0163\n",
            "Epoch 65/200\n",
            "1257/1257 [==============================] - 0s 201us/step - loss: 0.0152\n",
            "Epoch 66/200\n",
            "1257/1257 [==============================] - 0s 236us/step - loss: 0.0140\n",
            "Epoch 67/200\n",
            "1257/1257 [==============================] - 0s 218us/step - loss: 0.0130\n",
            "Epoch 68/200\n",
            "1257/1257 [==============================] - 0s 229us/step - loss: 0.0119\n",
            "Epoch 69/200\n",
            "1257/1257 [==============================] - 0s 183us/step - loss: 0.0109\n",
            "Epoch 70/200\n",
            "1257/1257 [==============================] - 0s 194us/step - loss: 0.0100\n",
            "Epoch 71/200\n",
            "1257/1257 [==============================] - 0s 230us/step - loss: 0.0091\n",
            "Epoch 72/200\n",
            "1257/1257 [==============================] - 0s 227us/step - loss: 0.0082\n",
            "Epoch 73/200\n",
            "1257/1257 [==============================] - 0s 174us/step - loss: 0.0074\n",
            "Epoch 74/200\n",
            "1257/1257 [==============================] - 0s 181us/step - loss: 0.0067\n",
            "Epoch 75/200\n",
            "1257/1257 [==============================] - 0s 185us/step - loss: 0.0060\n",
            "Epoch 76/200\n",
            "1257/1257 [==============================] - 0s 167us/step - loss: 0.0053\n",
            "Epoch 77/200\n",
            "1257/1257 [==============================] - 0s 195us/step - loss: 0.0047\n",
            "Epoch 78/200\n",
            "1257/1257 [==============================] - 0s 237us/step - loss: 0.0042\n",
            "Epoch 79/200\n",
            "1257/1257 [==============================] - 0s 225us/step - loss: 0.0037\n",
            "Epoch 80/200\n",
            "1257/1257 [==============================] - 0s 216us/step - loss: 0.0032\n",
            "Epoch 81/200\n",
            "1257/1257 [==============================] - 0s 203us/step - loss: 0.0028\n",
            "Epoch 82/200\n",
            "1257/1257 [==============================] - 0s 226us/step - loss: 0.0025\n",
            "Epoch 83/200\n",
            "1257/1257 [==============================] - 0s 234us/step - loss: 0.0022\n",
            "Epoch 84/200\n",
            "1257/1257 [==============================] - 0s 211us/step - loss: 0.0019\n",
            "Epoch 85/200\n",
            "1257/1257 [==============================] - 0s 227us/step - loss: 0.0016\n",
            "Epoch 86/200\n",
            "1257/1257 [==============================] - 0s 186us/step - loss: 0.0014\n",
            "Epoch 87/200\n",
            "1257/1257 [==============================] - 0s 239us/step - loss: 0.0012\n",
            "Epoch 88/200\n",
            "1257/1257 [==============================] - 0s 187us/step - loss: 0.0010\n",
            "Epoch 89/200\n",
            "1257/1257 [==============================] - 0s 219us/step - loss: 9.0849e-04\n",
            "Epoch 90/200\n",
            "1257/1257 [==============================] - 0s 209us/step - loss: 7.8853e-04\n",
            "Epoch 91/200\n",
            "1257/1257 [==============================] - 0s 215us/step - loss: 6.9061e-04\n",
            "Epoch 92/200\n",
            "1257/1257 [==============================] - 0s 185us/step - loss: 6.0607e-04\n",
            "Epoch 93/200\n",
            "1257/1257 [==============================] - 0s 169us/step - loss: 5.3591e-04\n",
            "Epoch 94/200\n",
            "1257/1257 [==============================] - 0s 216us/step - loss: 4.7813e-04\n",
            "Epoch 95/200\n",
            "1257/1257 [==============================] - 0s 222us/step - loss: 4.3122e-04\n",
            "Epoch 96/200\n",
            "1257/1257 [==============================] - 0s 218us/step - loss: 3.9243e-04\n",
            "Epoch 97/200\n",
            "1257/1257 [==============================] - 0s 219us/step - loss: 3.6132e-04\n",
            "Epoch 98/200\n",
            "1257/1257 [==============================] - 0s 196us/step - loss: 3.3578e-04\n",
            "Epoch 99/200\n",
            "1257/1257 [==============================] - 0s 190us/step - loss: 3.1482e-04\n",
            "Epoch 100/200\n",
            "1257/1257 [==============================] - 0s 215us/step - loss: 2.9952e-04\n",
            "Epoch 101/200\n",
            "1257/1257 [==============================] - 0s 226us/step - loss: 2.8611e-04\n",
            "Epoch 102/200\n",
            "1257/1257 [==============================] - 0s 244us/step - loss: 2.7743e-04\n",
            "Epoch 103/200\n",
            "1257/1257 [==============================] - 0s 182us/step - loss: 2.6971e-04\n",
            "Epoch 104/200\n",
            "1257/1257 [==============================] - 0s 174us/step - loss: 2.6332e-04\n",
            "Epoch 105/200\n",
            "1257/1257 [==============================] - 0s 173us/step - loss: 2.5886e-04\n",
            "Epoch 106/200\n",
            "1257/1257 [==============================] - 0s 230us/step - loss: 2.5517e-04\n",
            "Epoch 107/200\n",
            "1257/1257 [==============================] - 0s 203us/step - loss: 2.5253e-04\n",
            "Epoch 108/200\n",
            "1257/1257 [==============================] - 0s 176us/step - loss: 2.5083e-04\n",
            "Epoch 109/200\n",
            "1257/1257 [==============================] - 0s 241us/step - loss: 2.4914e-04\n",
            "Epoch 110/200\n",
            "1257/1257 [==============================] - 0s 245us/step - loss: 2.4786e-04\n",
            "Epoch 111/200\n",
            "1257/1257 [==============================] - 0s 200us/step - loss: 2.4789e-04\n",
            "Epoch 112/200\n",
            "1257/1257 [==============================] - 0s 174us/step - loss: 2.4651e-04\n",
            "Epoch 113/200\n",
            "1257/1257 [==============================] - 0s 205us/step - loss: 2.4613e-04\n",
            "Epoch 114/200\n",
            "1257/1257 [==============================] - 0s 215us/step - loss: 2.4606e-04\n",
            "Epoch 115/200\n",
            "1257/1257 [==============================] - 0s 172us/step - loss: 2.4561e-04\n",
            "Epoch 116/200\n",
            "1257/1257 [==============================] - 0s 181us/step - loss: 2.4572e-04\n",
            "Epoch 117/200\n",
            "1257/1257 [==============================] - 0s 206us/step - loss: 2.4652e-04\n",
            "Epoch 118/200\n",
            "1257/1257 [==============================] - 0s 204us/step - loss: 2.4523e-04\n",
            "Epoch 119/200\n",
            "1257/1257 [==============================] - 0s 201us/step - loss: 2.4535e-04\n",
            "Epoch 120/200\n",
            "1257/1257 [==============================] - 0s 179us/step - loss: 2.4532e-04\n",
            "Epoch 121/200\n",
            "1257/1257 [==============================] - 0s 169us/step - loss: 2.4542e-04\n",
            "Epoch 122/200\n",
            "1257/1257 [==============================] - 0s 203us/step - loss: 2.4540e-04\n",
            "Epoch 123/200\n",
            "1257/1257 [==============================] - 0s 217us/step - loss: 2.4532e-04\n",
            "Epoch 124/200\n",
            "1257/1257 [==============================] - 0s 212us/step - loss: 2.4589e-04\n",
            "Epoch 125/200\n",
            "1257/1257 [==============================] - 0s 215us/step - loss: 2.4518e-04\n",
            "Epoch 126/200\n",
            "1257/1257 [==============================] - 0s 204us/step - loss: 2.4530e-04\n",
            "Epoch 127/200\n",
            "1257/1257 [==============================] - 0s 183us/step - loss: 2.4544e-04\n",
            "Epoch 128/200\n",
            "1257/1257 [==============================] - 0s 182us/step - loss: 2.4521e-04\n",
            "Epoch 129/200\n",
            "1257/1257 [==============================] - 0s 192us/step - loss: 2.4508e-04\n",
            "Epoch 130/200\n",
            "1257/1257 [==============================] - 0s 199us/step - loss: 2.4529e-04\n",
            "Epoch 131/200\n",
            "1257/1257 [==============================] - 0s 190us/step - loss: 2.4664e-04\n",
            "Epoch 132/200\n",
            "1257/1257 [==============================] - 0s 191us/step - loss: 2.4530e-04\n",
            "Epoch 133/200\n",
            "1257/1257 [==============================] - 0s 171us/step - loss: 2.4521e-04\n",
            "Epoch 134/200\n",
            "1257/1257 [==============================] - 0s 202us/step - loss: 2.4511e-04\n",
            "Epoch 135/200\n",
            "1257/1257 [==============================] - 0s 237us/step - loss: 2.4512e-04\n",
            "Epoch 136/200\n",
            "1257/1257 [==============================] - 0s 211us/step - loss: 2.4566e-04\n",
            "Epoch 137/200\n",
            "1257/1257 [==============================] - 0s 186us/step - loss: 2.4506e-04\n",
            "Epoch 138/200\n",
            "1257/1257 [==============================] - 0s 210us/step - loss: 2.4621e-04\n",
            "Epoch 139/200\n",
            "1257/1257 [==============================] - 0s 201us/step - loss: 2.4571e-04\n",
            "Epoch 140/200\n",
            "1257/1257 [==============================] - 0s 204us/step - loss: 2.4545e-04\n",
            "Epoch 141/200\n",
            "1257/1257 [==============================] - 0s 198us/step - loss: 2.4521e-04\n",
            "Epoch 142/200\n",
            "1257/1257 [==============================] - 0s 187us/step - loss: 2.4541e-04\n",
            "Epoch 143/200\n",
            "1257/1257 [==============================] - 0s 200us/step - loss: 2.4559e-04\n",
            "Epoch 144/200\n",
            "1257/1257 [==============================] - 0s 259us/step - loss: 2.4538e-04\n",
            "Epoch 145/200\n",
            "1257/1257 [==============================] - 0s 212us/step - loss: 2.4543e-04\n",
            "Epoch 146/200\n",
            "1257/1257 [==============================] - 0s 221us/step - loss: 2.4605e-04\n",
            "Epoch 147/200\n",
            "1257/1257 [==============================] - 0s 191us/step - loss: 2.4541e-04\n",
            "Epoch 148/200\n",
            "1257/1257 [==============================] - 0s 195us/step - loss: 2.4539e-04\n",
            "Epoch 149/200\n",
            "1257/1257 [==============================] - 0s 177us/step - loss: 2.4533e-04\n",
            "Epoch 150/200\n",
            "1257/1257 [==============================] - 0s 208us/step - loss: 2.4602e-04\n",
            "Epoch 151/200\n",
            "1257/1257 [==============================] - 0s 217us/step - loss: 2.4525e-04\n",
            "Epoch 152/200\n",
            "1257/1257 [==============================] - 0s 182us/step - loss: 2.4531e-04\n",
            "Epoch 153/200\n",
            "1257/1257 [==============================] - 0s 212us/step - loss: 2.4548e-04\n",
            "Epoch 154/200\n",
            "1257/1257 [==============================] - 0s 165us/step - loss: 2.4463e-04\n",
            "Epoch 155/200\n",
            "1257/1257 [==============================] - 0s 233us/step - loss: 2.4617e-04\n",
            "Epoch 156/200\n",
            "1257/1257 [==============================] - 0s 204us/step - loss: 2.4619e-04\n",
            "Epoch 157/200\n",
            "1257/1257 [==============================] - 0s 167us/step - loss: 2.4640e-04\n",
            "Epoch 158/200\n",
            "1257/1257 [==============================] - 0s 179us/step - loss: 2.4518e-04\n",
            "Epoch 159/200\n",
            "1257/1257 [==============================] - 0s 204us/step - loss: 2.4465e-04\n",
            "Epoch 160/200\n",
            "1257/1257 [==============================] - 0s 201us/step - loss: 2.4549e-04\n",
            "Epoch 161/200\n",
            "1257/1257 [==============================] - 0s 219us/step - loss: 2.4587e-04\n",
            "Epoch 162/200\n",
            "1257/1257 [==============================] - 0s 210us/step - loss: 2.4721e-04\n",
            "Epoch 163/200\n",
            "1257/1257 [==============================] - 0s 199us/step - loss: 2.4500e-04\n",
            "Epoch 164/200\n",
            "1257/1257 [==============================] - 0s 233us/step - loss: 2.4609e-04\n",
            "Epoch 165/200\n",
            "1257/1257 [==============================] - 0s 242us/step - loss: 2.4622e-04\n",
            "Epoch 166/200\n",
            "1257/1257 [==============================] - 0s 216us/step - loss: 2.4600e-04\n",
            "Epoch 167/200\n",
            "1257/1257 [==============================] - 0s 195us/step - loss: 2.4482e-04\n",
            "Epoch 168/200\n",
            "1257/1257 [==============================] - 0s 187us/step - loss: 2.4533e-04\n",
            "Epoch 169/200\n",
            "1257/1257 [==============================] - 0s 182us/step - loss: 2.4607e-04\n",
            "Epoch 170/200\n",
            "1257/1257 [==============================] - 0s 163us/step - loss: 2.4529e-04\n",
            "Epoch 171/200\n",
            "1257/1257 [==============================] - 0s 187us/step - loss: 2.4904e-04\n",
            "Epoch 172/200\n",
            "1257/1257 [==============================] - 0s 239us/step - loss: 2.4534e-04\n",
            "Epoch 173/200\n",
            "1257/1257 [==============================] - 0s 194us/step - loss: 2.4703e-04\n",
            "Epoch 174/200\n",
            "1257/1257 [==============================] - 0s 184us/step - loss: 2.4517e-04\n",
            "Epoch 175/200\n",
            "1257/1257 [==============================] - 0s 211us/step - loss: 2.4570e-04\n",
            "Epoch 176/200\n",
            "1257/1257 [==============================] - 0s 165us/step - loss: 2.4715e-04\n",
            "Epoch 177/200\n",
            "1257/1257 [==============================] - 0s 232us/step - loss: 2.4660e-04\n",
            "Epoch 178/200\n",
            "1257/1257 [==============================] - 0s 198us/step - loss: 2.4592e-04\n",
            "Epoch 179/200\n",
            "1257/1257 [==============================] - 0s 214us/step - loss: 2.4613e-04\n",
            "Epoch 180/200\n",
            "1257/1257 [==============================] - 0s 244us/step - loss: 2.4783e-04\n",
            "Epoch 181/200\n",
            "1257/1257 [==============================] - 0s 206us/step - loss: 2.4689e-04\n",
            "Epoch 182/200\n",
            "1257/1257 [==============================] - 0s 172us/step - loss: 2.4805e-04\n",
            "Epoch 183/200\n",
            "1257/1257 [==============================] - 0s 183us/step - loss: 2.4567e-04\n",
            "Epoch 184/200\n",
            "1257/1257 [==============================] - 0s 216us/step - loss: 2.4654e-04\n",
            "Epoch 185/200\n",
            "1257/1257 [==============================] - 0s 214us/step - loss: 2.4621e-04\n",
            "Epoch 186/200\n",
            "1257/1257 [==============================] - 0s 177us/step - loss: 2.4572e-04\n",
            "Epoch 187/200\n",
            "1257/1257 [==============================] - 0s 212us/step - loss: 2.4712e-04\n",
            "Epoch 188/200\n",
            "1257/1257 [==============================] - 0s 230us/step - loss: 2.4610e-04\n",
            "Epoch 189/200\n",
            "1257/1257 [==============================] - 0s 202us/step - loss: 2.4580e-04\n",
            "Epoch 190/200\n",
            "1257/1257 [==============================] - 0s 206us/step - loss: 2.4643e-04\n",
            "Epoch 191/200\n",
            "1257/1257 [==============================] - 0s 185us/step - loss: 2.4467e-04\n",
            "Epoch 192/200\n",
            "1257/1257 [==============================] - 0s 212us/step - loss: 2.4947e-04\n",
            "Epoch 193/200\n",
            "1257/1257 [==============================] - 0s 199us/step - loss: 2.4849e-04\n",
            "Epoch 194/200\n",
            "1257/1257 [==============================] - 0s 237us/step - loss: 2.4665e-04\n",
            "Epoch 195/200\n",
            "1257/1257 [==============================] - 0s 230us/step - loss: 2.4819e-04\n",
            "Epoch 196/200\n",
            "1257/1257 [==============================] - 0s 186us/step - loss: 2.4506e-04\n",
            "Epoch 197/200\n",
            "1257/1257 [==============================] - 0s 174us/step - loss: 2.4502e-04\n",
            "Epoch 198/200\n",
            "1257/1257 [==============================] - 0s 219us/step - loss: 2.5678e-04\n",
            "Epoch 199/200\n",
            "1257/1257 [==============================] - 0s 205us/step - loss: 2.4735e-04\n",
            "Epoch 200/200\n",
            "1257/1257 [==============================] - 0s 234us/step - loss: 2.4610e-04\n"
          ],
          "name": "stdout"
        },
        {
          "output_type": "execute_result",
          "data": {
            "text/plain": [
              "<keras.callbacks.History at 0x7ff246f94d68>"
            ]
          },
          "metadata": {
            "tags": []
          },
          "execution_count": 11
        }
      ]
    },
    {
      "cell_type": "code",
      "metadata": {
        "id": "CcmvINzMUBa4",
        "colab_type": "code",
        "colab": {}
      },
      "source": [
        "# Getting the real stock price of 2017\n",
        "dataset_test = pd.read_csv('Google_Stock_Price_Test.csv')\n",
        "real_stock_price = dataset_test.iloc[:, 1:2].values"
      ],
      "execution_count": 0,
      "outputs": []
    },
    {
      "cell_type": "code",
      "metadata": {
        "id": "s4YvurSFUH8N",
        "colab_type": "code",
        "colab": {}
      },
      "source": [
        "# Getting the predicted stock price of 2017\n",
        "inputs = real_stock_price\n",
        "inputs = sc.transform(inputs)\n",
        "inputs = np.reshape(inputs, (20, 1, 1))\n",
        "predicted_stock_price = regressor.predict(inputs)\n",
        "predicted_stock_price = sc.inverse_transform(predicted_stock_price)"
      ],
      "execution_count": 0,
      "outputs": []
    },
    {
      "cell_type": "code",
      "metadata": {
        "id": "QLYDYfxCUNT-",
        "colab_type": "code",
        "outputId": "54729a0f-91e4-4c60-a4bf-9a3ca966472d",
        "colab": {
          "base_uri": "https://localhost:8080/",
          "height": 295
        }
      },
      "source": [
        "# Visualising the results\n",
        "plt.plot(real_stock_price, color = 'red', label = 'Real Google Stock Price')\n",
        "plt.plot(predicted_stock_price, color = 'blue', label = 'Predicted Google Stock Price')\n",
        "plt.title('Google Stock Price Prediction')\n",
        "plt.xlabel('Time')\n",
        "plt.ylabel('Google Stock Price')\n",
        "plt.legend()\n",
        "plt.show()"
      ],
      "execution_count": 0,
      "outputs": [
        {
          "output_type": "display_data",
          "data": {
            "image/png": "[encoded data removed]",
            "text/plain": [
              "<Figure size 432x288 with 1 Axes>"
            ]
          },
          "metadata": {
            "tags": []
          }
        }
      ]
    },
    {
      "cell_type": "code",
      "metadata": {
        "id": "wy86JyrEYZLk",
        "colab_type": "code",
        "colab": {}
      },
      "source": [
        "# Getting the predicted stock price of 2012 - 2016\n",
        "predicted_stock_price_train = regressor.predict(x_train)\n",
        "predicted_stock_price_train = sc.inverse_transform(predicted_stock_price_train)"
      ],
      "execution_count": 0,
      "outputs": []
    },
    {
      "cell_type": "code",
      "metadata": {
        "id": "XuUETW0SI8R0",
        "colab_type": "code",
        "outputId": "82c63a7b-4548-4d9c-fd4d-b63498b6c8e4",
        "colab": {
          "base_uri": "https://localhost:8080/",
          "height": 295
        }
      },
      "source": [
        "# Visualising the results\n",
        "plt.plot(real_stock_price, color = 'red', label = 'Real Google Stock Price')\n",
        "plt.plot(predicted_stock_price_train, color = 'blue', label = 'Predicted Google Stock Price')\n",
        "plt.title('Google Stock Price Prediction')\n",
        "plt.xlabel('Time')\n",
        "plt.ylabel('Google Stock Price')\n",
        "plt.legend()\n",
        "plt.show()"
      ],
      "execution_count": 0,
      "outputs": [
        {
          "output_type": "display_data",
          "data": {
            "image/png": "[encoded data removed]",
            "text/plain": [
              "<Figure size 432x288 with 1 Axes>"
            ]
          },
          "metadata": {
            "tags": []
          }
        }
      ]
    },
    {
      "cell_type": "code",
      "metadata": {
        "id": "z8UzrjufJUbP",
        "colab_type": "code",
        "colab": {}
      },
      "source": [
        "# Evaluating the RNN \n",
        "import math\n",
        "from sklearn.metrics import mean_squared_error\n",
        "rmse = math.sqrt(mean_squared_error(real_stock_price, predicted_stock_price))"
      ],
      "execution_count": 0,
      "outputs": []
    }
  ]
}